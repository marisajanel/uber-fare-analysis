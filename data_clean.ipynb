{
 "cells": [
  {
   "cell_type": "code",
   "execution_count": 27,
   "id": "0f3f99f4",
   "metadata": {},
   "outputs": [
    {
     "name": "stdout",
     "output_type": "stream",
     "text": [
      "<class 'pandas.core.frame.DataFrame'>\n",
      "RangeIndex: 200000 entries, 0 to 199999\n",
      "Data columns (total 9 columns):\n",
      " #   Column             Non-Null Count   Dtype  \n",
      "---  ------             --------------   -----  \n",
      " 0   Unnamed: 0         200000 non-null  int64  \n",
      " 1   key                200000 non-null  object \n",
      " 2   fare_amount        200000 non-null  float64\n",
      " 3   pickup_datetime    200000 non-null  object \n",
      " 4   pickup_longitude   200000 non-null  float64\n",
      " 5   pickup_latitude    200000 non-null  float64\n",
      " 6   dropoff_longitude  199999 non-null  float64\n",
      " 7   dropoff_latitude   199999 non-null  float64\n",
      " 8   passenger_count    200000 non-null  int64  \n",
      "dtypes: float64(5), int64(2), object(2)\n",
      "memory usage: 13.7+ MB\n"
     ]
    },
    {
     "data": {
      "text/plain": [
       "0"
      ]
     },
     "execution_count": 27,
     "metadata": {},
     "output_type": "execute_result"
    }
   ],
   "source": [
    "import pandas as pd\n",
    "\n",
    "# load the dataset\n",
    "df = pd.read_csv(\"uber_data.csv\")\n",
    "\n",
    "df.info()\n",
    "df.describe()\n",
    "df.head()\n",
    "df.duplicated().sum()"
   ]
  },
  {
   "cell_type": "code",
   "execution_count": 28,
   "id": "9b491fc6",
   "metadata": {},
   "outputs": [
    {
     "name": "stdout",
     "output_type": "stream",
     "text": [
      "dropoff_longitude    1\n",
      "dropoff_latitude     1\n",
      "dtype: int64\n"
     ]
    }
   ],
   "source": [
    "# checking for missing values\n",
    "missing = df.isnull().sum()\n",
    "print(missing[missing > 0])"
   ]
  },
  {
   "cell_type": "code",
   "execution_count": 29,
   "id": "d3bd0f94",
   "metadata": {},
   "outputs": [
    {
     "name": "stdout",
     "output_type": "stream",
     "text": [
      "key                  0\n",
      "fare_amount          0\n",
      "pickup_datetime      0\n",
      "pickup_longitude     0\n",
      "pickup_latitude      0\n",
      "dropoff_longitude    0\n",
      "dropoff_latitude     0\n",
      "passenger_count      0\n",
      "dtype: int64\n"
     ]
    }
   ],
   "source": [
    "# drop columns from above\n",
    "df = df.dropna(subset=['dropoff_longitude', 'dropoff_latitude'])\n",
    "\n",
    "# drop unnamed column\n",
    "df = df.drop(columns=['Unnamed: 0'])\n",
    "\n",
    "# Check for missing values again\n",
    "print(df.isnull().sum())\n",
    "\n"
   ]
  },
  {
   "cell_type": "code",
   "execution_count": 30,
   "id": "f2dfcfbf",
   "metadata": {},
   "outputs": [
    {
     "name": "stdout",
     "output_type": "stream",
     "text": [
      "(194231, 8)\n"
     ]
    }
   ],
   "source": [
    "# Ranging fares between $1 and $100\n",
    "df = df[(df['fare_amount'] >= 1) & (df['fare_amount'] <= 100)]\n",
    "\n",
    "# remove trips with identical pickup & dropoff locations\n",
    "df = df[~((df['pickup_latitude'] == df['dropoff_latitude']) &\n",
    "          (df['dropoff_longitude'] == df['dropoff_longitude']))]\n",
    "\n",
    "# checking df shape\n",
    "print(df.shape)\n"
   ]
  },
  {
   "cell_type": "code",
   "execution_count": 31,
   "id": "f0e9dca7",
   "metadata": {},
   "outputs": [
    {
     "name": "stdout",
     "output_type": "stream",
     "text": [
      "(193515, 8)\n"
     ]
    }
   ],
   "source": [
    "# Remove trips outside of NYC\n",
    "df = df[(df['pickup_latitude'].between(40.5, 41.0)) &\n",
    "        (df['pickup_longitude'].between(-74.3, -73.7)) &\n",
    "        (df['dropoff_latitude'].between(40.5, 41.0)) &\n",
    "        df['dropoff_longitude'].between(-74.3, -73.7)]\n",
    "\n",
    "# Checking df shape\n",
    "print(df.shape)"
   ]
  },
  {
   "cell_type": "code",
   "execution_count": 32,
   "id": "849c7b6e",
   "metadata": {},
   "outputs": [
    {
     "name": "stdout",
     "output_type": "stream",
     "text": [
      "count    193515.000000\n",
      "mean          3.342294\n",
      "std           3.561226\n",
      "min           0.000111\n",
      "25%           1.280925\n",
      "50%           2.179727\n",
      "75%           3.934569\n",
      "max          36.687406\n",
      "Name: trip_distance, dtype: float64\n"
     ]
    }
   ],
   "source": [
    "# Create trip_distance variable\n",
    "\n",
    "#imports\n",
    "from math import radians, cos, sin, asin, sqrt\n",
    "\n",
    "# Defining haversine distance\n",
    "def haversine(lat1, lon1, lat2, lon2):\n",
    "    R = 6371 # Earth's Radius\n",
    "\n",
    "    # coverting degrees to radians\n",
    "    lat1, lon1, lat2, lon2 = map(radians, [lat1, lon1, lat2, lon2])\n",
    "\n",
    "    dlat = lat2 - lat1\n",
    "    dlon = lon2 - lon1\n",
    "\n",
    "    a = sin(dlat / 2)**2 + cos(lat1) * cos(lat2) * sin(dlon / 2)**2\n",
    "    c = 2 * asin(sqrt(a))\n",
    "\n",
    "    return R * c\n",
    "\n",
    "# Applying function to create trip_distance column\n",
    "df['trip_distance'] = df.apply(lambda row: haversine(\n",
    "    row['pickup_latitude'], row['pickup_longitude'],\n",
    "    row['dropoff_latitude'], row['dropoff_longitude']), axis=1\n",
    ")\n",
    "\n",
    "# Checking if column exists\n",
    "print(df['trip_distance'].describe())"
   ]
  },
  {
   "cell_type": "code",
   "execution_count": 33,
   "id": "fcf9316d",
   "metadata": {},
   "outputs": [
    {
     "name": "stdout",
     "output_type": "stream",
     "text": [
      "   pickup_hour pickup_dayofweek\n",
      "0           19         Thursday\n",
      "1           20           Friday\n",
      "2           21           Monday\n",
      "3            8           Friday\n",
      "4           17         Thursday\n"
     ]
    }
   ],
   "source": [
    "# Converting pickup_datetime to datetime\n",
    "df['pickup_datetime'] = pd.to_datetime(df['pickup_datetime'])\n",
    "\n",
    "# Extracting hour of the day\n",
    "df['pickup_hour'] = df['pickup_datetime'].dt.hour\n",
    "\n",
    "# Extracting day of the week\n",
    "df['pickup_dayofweek'] = df['pickup_datetime'].dt.day_name()\n",
    "\n",
    "# Check\n",
    "print(df[['pickup_hour', 'pickup_dayofweek']].head())"
   ]
  },
  {
   "cell_type": "code",
   "execution_count": null,
   "id": "3c61ec59",
   "metadata": {},
   "outputs": [
    {
     "name": "stdout",
     "output_type": "stream",
     "text": [
      "CSV saved successfully!\n"
     ]
    },
    {
     "ename": "",
     "evalue": "",
     "output_type": "error",
     "traceback": [
      "\u001b[1;31mThe Kernel crashed while executing code in the current cell or a previous cell. \n",
      "\u001b[1;31mPlease review the code in the cell(s) to identify a possible cause of the failure. \n",
      "\u001b[1;31mClick <a href='https://aka.ms/vscodeJupyterKernelCrash'>here</a> for more info. \n",
      "\u001b[1;31mView Jupyter <a href='command:jupyter.viewOutput'>log</a> for further details."
     ]
    }
   ],
   "source": [
    "# Save cleaned dataset as a csv\n",
    "try:\n",
    "    df.to_csv(\"uber_cleaned.csv\", index=False)\n",
    "    print(\"CSV saved successfully!\")\n",
    "except Exception as e:\n",
    "    print(\"Failed to save CSV:\", e)\n",
    "\n"
   ]
  }
 ],
 "metadata": {
  "kernelspec": {
   "display_name": "base",
   "language": "python",
   "name": "python3"
  },
  "language_info": {
   "codemirror_mode": {
    "name": "ipython",
    "version": 3
   },
   "file_extension": ".py",
   "mimetype": "text/x-python",
   "name": "python",
   "nbconvert_exporter": "python",
   "pygments_lexer": "ipython3",
   "version": "3.12.7"
  }
 },
 "nbformat": 4,
 "nbformat_minor": 5
}
